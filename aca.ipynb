{
 "cells": [
  {
   "cell_type": "code",
   "execution_count": 68,
   "id": "0c9e2159-3b85-4244-89e0-3486e264cca0",
   "metadata": {},
   "outputs": [],
   "source": [
    "import json \n",
    "\n",
    "import asyncio\n",
    "\n",
    "from igvf_async_client import AsyncIgvfApi\n",
    "\n",
    "import requests\n",
    "\n",
    "api = AsyncIgvfApi()"
   ]
  },
  {
   "cell_type": "code",
   "execution_count": null,
   "id": "9f54dabd-dbd1-47c5-9ff3-7c54a63bcc4e",
   "metadata": {},
   "outputs": [],
   "source": [
    "async def get_total(item_type):\n",
    "    total = (await api.search(type=[item_type], limit=0)).total\n",
    "    return (item_type, total)"
   ]
  },
  {
   "cell_type": "code",
   "execution_count": null,
   "id": "1202ad4c-e92b-4146-aa95-9249fbec9ce1",
   "metadata": {},
   "outputs": [],
   "source": []
  },
  {
   "cell_type": "code",
   "execution_count": null,
   "id": "31d94b86-4e29-4a00-87fc-0781e24de101",
   "metadata": {},
   "outputs": [],
   "source": [
    "import time\n",
    "s = time.time()\n",
    "res = await asyncio.gather(*(get_total(item_type) for item_type in item_types))\n",
    "e = time.time()\n",
    "print(e - s, dict(sorted(res, key=lambda x: -x[1])))"
   ]
  },
  {
   "cell_type": "code",
   "execution_count": 97,
   "id": "d2a7e2b3-7ed4-4624-b837-3c61508a8c60",
   "metadata": {},
   "outputs": [
    {
     "name": "stdout",
     "output_type": "stream",
     "text": [
      "\n"
     ]
    }
   ],
   "source": [
    "await api.search(\n",
    "    type=['FileSet']\n",
    ")\n",
    "print()"
   ]
  },
  {
   "cell_type": "code",
   "execution_count": 22,
   "id": "505a4e28-1750-48d6-8cb1-ac31774d51eb",
   "metadata": {},
   "outputs": [],
   "source": [
    "base_url = 'https://api.data.igvf.org'"
   ]
  },
  {
   "cell_type": "code",
   "execution_count": 14,
   "id": "025dde55-278a-4e67-b484-28c2e40a5f90",
   "metadata": {},
   "outputs": [],
   "source": [
    "files_url = (\n",
    "    'https://api.data.igvf.org/search/'\n",
    "    '?type=File&file_set.data_use_limitation_summaries=HMB-MDS'\n",
    "    '&file_set.controlled_access=true'\n",
    "    '&field=file_set.data_use_limitation_summaries'\n",
    "    '&field=file_set.controlled_access'\n",
    "    '&field=file_set.@id'\n",
    "    '&limit=all'\n",
    ")"
   ]
  },
  {
   "cell_type": "code",
   "execution_count": 99,
   "id": "990ee92d-d49f-414c-9bfa-3714aa3b5a8b",
   "metadata": {},
   "outputs": [],
   "source": [
    "files_url = (\n",
    "    'https://api.data.igvf.org/search/'\n",
    "    '?type=File&file_set.data_use_limitation_summaries=GRU'\n",
    "    '&file_set.controlled_access=true'\n",
    "    '&field=file_set.data_use_limitation_summaries'\n",
    "    '&field=file_set.controlled_access'\n",
    "    '&field=file_set.@id'\n",
    "    '&limit=all'\n",
    "    '&file_set.@id=/analysis-sets/IGVFDS0793KZKS/'\n",
    ")"
   ]
  },
  {
   "cell_type": "code",
   "execution_count": 100,
   "id": "a382f69a-45a8-4250-b078-1b6c73633ee3",
   "metadata": {
    "scrolled": true
   },
   "outputs": [
    {
     "data": {
      "text/plain": [
       "[{'@id': '/tabular-files/IGVFFI1928OJPU/',\n",
       "  '@type': ['TabularFile', 'File', 'Item'],\n",
       "  'file_set': {'data_use_limitation_summaries': ['GRU'],\n",
       "   '@id': '/analysis-sets/IGVFDS0793KZKS/',\n",
       "   'controlled_access': True}},\n",
       " {'@id': '/index-files/IGVFFI9775WVZK/',\n",
       "  '@type': ['IndexFile', 'File', 'Item'],\n",
       "  'file_set': {'data_use_limitation_summaries': ['GRU'],\n",
       "   '@id': '/analysis-sets/IGVFDS0793KZKS/',\n",
       "   'controlled_access': True}},\n",
       " {'@id': '/matrix-files/IGVFFI7332UUZE/',\n",
       "  '@type': ['MatrixFile', 'File', 'Item'],\n",
       "  'file_set': {'data_use_limitation_summaries': ['GRU'],\n",
       "   '@id': '/analysis-sets/IGVFDS0793KZKS/',\n",
       "   'controlled_access': True}},\n",
       " {'@id': '/tabular-files/IGVFFI1257TMRU/',\n",
       "  '@type': ['TabularFile', 'File', 'Item'],\n",
       "  'file_set': {'data_use_limitation_summaries': ['GRU'],\n",
       "   '@id': '/analysis-sets/IGVFDS0793KZKS/',\n",
       "   'controlled_access': True}},\n",
       " {'@id': '/tabular-files/IGVFFI7212WXZR/',\n",
       "  '@type': ['TabularFile', 'File', 'Item'],\n",
       "  'file_set': {'data_use_limitation_summaries': ['GRU'],\n",
       "   '@id': '/analysis-sets/IGVFDS0793KZKS/',\n",
       "   'controlled_access': True}}]"
      ]
     },
     "execution_count": 100,
     "metadata": {},
     "output_type": "execute_result"
    }
   ],
   "source": [
    "files = requests.get(files_url).json()['@graph']\n",
    "files"
   ]
  },
  {
   "cell_type": "code",
   "execution_count": null,
   "id": "5b60d427-d296-43d4-80b9-1bbf39250a31",
   "metadata": {},
   "outputs": [],
   "source": []
  },
  {
   "cell_type": "code",
   "execution_count": 101,
   "id": "06109341-d848-4e88-80a6-736ac3989d04",
   "metadata": {},
   "outputs": [
    {
     "name": "stdout",
     "output_type": "stream",
     "text": [
      "{'/analysis-sets/IGVFDS0793KZKS/'} 1 5\n"
     ]
    }
   ],
   "source": [
    "files_seen = set()\n",
    "files_local = {}\n",
    "\n",
    "samples_seen = set()\n",
    "samples_local = {}\n",
    "\n",
    "donors_seen = set()\n",
    "donors_local = {}\n",
    "\n",
    "file_sets_seen = set()\n",
    "file_sets_local = {}\n",
    "\n",
    "for f in files:\n",
    "    files_local[f['@id']] = f\n",
    "    files_seen.add(f['@id'])\n",
    "\n",
    "file_sets = {f['file_set']['@id'] for f in files}\n",
    "\n",
    "print(file_sets, len(file_sets), len(files))"
   ]
  },
  {
   "cell_type": "code",
   "execution_count": 102,
   "id": "8b39ffc3-1eb9-4bb8-b2b7-a965ac8cc2e7",
   "metadata": {},
   "outputs": [
    {
     "name": "stdout",
     "output_type": "stream",
     "text": [
      "GETTING SAMPLES\n",
      "Getting donors\n",
      "getting donor /human-donors/IGVFDO1264SGCS/\n",
      "getting donor /human-donors/IGVFDO0938OYMI/\n",
      "getting donor /human-donors/IGVFDO1718HCES/\n",
      "GETTING SAMPLES\n",
      "Getting donors\n",
      "GETTING SAMPLES\n",
      "Getting donors\n",
      "GETTING SAMPLES\n",
      "Getting donors\n"
     ]
    }
   ],
   "source": [
    "while file_sets:\n",
    "    fs = file_sets.pop()\n",
    "    if fs in file_sets_seen:\n",
    "        continue\n",
    "    file_sets_seen.add(fs)\n",
    "    full_fs = requests.get(base_url + fs + '@@object').json()\n",
    "    file_sets_local[fs] = full_fs\n",
    "    if 'input_file_sets' in full_fs:\n",
    "        for ifs in full_fs['input_file_sets']:\n",
    "            print('Found input file set')\n",
    "            if ifs not in file_sets_seen:\n",
    "                file_sets.add(ifs)\n",
    "    if 'files' in full_fs:\n",
    "        for f in full_fs['files']:\n",
    "            if f not in files_seen:\n",
    "                full_file = requests.get(base_url + f + '@@object').json()\n",
    "                files_local[f] = full_file\n",
    "                files_seen.add(f)\n",
    "    if 'samples' in full_fs:\n",
    "        print('GETTING SAMPLES')\n",
    "        samples = requests.get(base_url + f'/search/?type=Sample&file_sets.@id={fs}&frame=object&limit=all').json()['@graph']\n",
    "        for sample in samples:\n",
    "            samples_seen.add(sample['@id'])\n",
    "            samples_local[sample['@id']] = sample\n",
    "    if 'donors' in full_fs:\n",
    "        print('Getting donors')\n",
    "        for donor in full_fs['donors']:\n",
    "            if donor not in donors_seen:\n",
    "                donors_seen.add(donor)\n",
    "                print('getting donor', donor)\n",
    "                full_donor = requests.get(base_url + donor + '@@object').json()\n",
    "                donors_local[donor] = full_donor"
   ]
  },
  {
   "cell_type": "code",
   "execution_count": 103,
   "id": "efce5ba7-9f88-494d-9c9e-e8b03792ae17",
   "metadata": {},
   "outputs": [
    {
     "data": {
      "text/plain": [
       "4"
      ]
     },
     "execution_count": 103,
     "metadata": {},
     "output_type": "execute_result"
    }
   ],
   "source": [
    "len(file_sets_local)"
   ]
  },
  {
   "cell_type": "code",
   "execution_count": 104,
   "id": "9a17192a-b88d-46dc-9be5-2aab35ea4157",
   "metadata": {},
   "outputs": [
    {
     "name": "stdout",
     "output_type": "stream",
     "text": [
      "files local 110\n",
      "file sets local 4\n",
      "samples local 13\n",
      "donors local 3\n"
     ]
    }
   ],
   "source": [
    "print('files local', len(files_local))\n",
    "print('file sets local', len(file_sets_local))\n",
    "print('samples local', len(samples_local))\n",
    "print('donors local', len(donors_local))"
   ]
  },
  {
   "cell_type": "code",
   "execution_count": 105,
   "id": "f688158d-4b57-482a-8857-0e2de9a83b60",
   "metadata": {},
   "outputs": [],
   "source": [
    "def print_summary(files_seen, file_sets_seen, samples_seen, donors_seen):\n",
    "    print(\n",
    "        json.dumps(\n",
    "            {\n",
    "                'files': len(list(sorted(files_seen))),\n",
    "                'file_sets': len(list(sorted(file_sets_seen))),\n",
    "                'samples': len(list(sorted(samples_seen))),\n",
    "                'donors': len(list(sorted(donors_seen))),\n",
    "            },\n",
    "            indent=4\n",
    "        )\n",
    "    )\n",
    "    print(\n",
    "        json.dumps(\n",
    "            {\n",
    "                'files': list(sorted(files_seen)),\n",
    "                'file_sets': list(sorted(file_sets_seen)),\n",
    "                'samples': list(sorted(samples_seen)),\n",
    "                'donors': list(sorted(donors_seen)),\n",
    "            },\n",
    "            indent=4\n",
    "        )\n",
    "    )"
   ]
  },
  {
   "cell_type": "code",
   "execution_count": 106,
   "id": "b02c3536-9de8-4c54-9114-fff960d34d18",
   "metadata": {},
   "outputs": [
    {
     "name": "stdout",
     "output_type": "stream",
     "text": [
      "{\n",
      "    \"files\": 110,\n",
      "    \"file_sets\": 4,\n",
      "    \"samples\": 13,\n",
      "    \"donors\": 3\n",
      "}\n",
      "{\n",
      "    \"files\": [\n",
      "        \"/configuration-files/IGVFFI0147QMYN/\",\n",
      "        \"/configuration-files/IGVFFI1513BFDT/\",\n",
      "        \"/configuration-files/IGVFFI2368QXMP/\",\n",
      "        \"/configuration-files/IGVFFI2618ZGAS/\",\n",
      "        \"/configuration-files/IGVFFI2891IZHI/\",\n",
      "        \"/configuration-files/IGVFFI3611FLZB/\",\n",
      "        \"/configuration-files/IGVFFI4613CIJO/\",\n",
      "        \"/configuration-files/IGVFFI4678GDCD/\",\n",
      "        \"/configuration-files/IGVFFI4864HCIP/\",\n",
      "        \"/configuration-files/IGVFFI5716CRTP/\",\n",
      "        \"/configuration-files/IGVFFI6057HKMR/\",\n",
      "        \"/configuration-files/IGVFFI6152BDFZ/\",\n",
      "        \"/configuration-files/IGVFFI7692LKWW/\",\n",
      "        \"/configuration-files/IGVFFI7823EBGU/\",\n",
      "        \"/configuration-files/IGVFFI8294ZONF/\",\n",
      "        \"/configuration-files/IGVFFI8994UTFE/\",\n",
      "        \"/configuration-files/IGVFFI9273RDVJ/\",\n",
      "        \"/configuration-files/IGVFFI9392EWHS/\",\n",
      "        \"/configuration-files/IGVFFI9421YMWK/\",\n",
      "        \"/configuration-files/IGVFFI9662BIIX/\",\n",
      "        \"/configuration-files/IGVFFI9886UDUE/\",\n",
      "        \"/index-files/IGVFFI9775WVZK/\",\n",
      "        \"/matrix-files/IGVFFI7332UUZE/\",\n",
      "        \"/sequence-files/IGVFFI0255VRZP/\",\n",
      "        \"/sequence-files/IGVFFI0469YGED/\",\n",
      "        \"/sequence-files/IGVFFI0580PJIJ/\",\n",
      "        \"/sequence-files/IGVFFI0816CKYF/\",\n",
      "        \"/sequence-files/IGVFFI0863GHNX/\",\n",
      "        \"/sequence-files/IGVFFI1130XIUT/\",\n",
      "        \"/sequence-files/IGVFFI1319TIZE/\",\n",
      "        \"/sequence-files/IGVFFI1329EVEN/\",\n",
      "        \"/sequence-files/IGVFFI1378OECH/\",\n",
      "        \"/sequence-files/IGVFFI1709YCOP/\",\n",
      "        \"/sequence-files/IGVFFI1818SDGY/\",\n",
      "        \"/sequence-files/IGVFFI1831MGLW/\",\n",
      "        \"/sequence-files/IGVFFI1854TKLE/\",\n",
      "        \"/sequence-files/IGVFFI1948ZHFI/\",\n",
      "        \"/sequence-files/IGVFFI2235IGJD/\",\n",
      "        \"/sequence-files/IGVFFI2254VJOX/\",\n",
      "        \"/sequence-files/IGVFFI2333ISYB/\",\n",
      "        \"/sequence-files/IGVFFI2363LLKT/\",\n",
      "        \"/sequence-files/IGVFFI2550QUXZ/\",\n",
      "        \"/sequence-files/IGVFFI2703RDLU/\",\n",
      "        \"/sequence-files/IGVFFI2770ZRBT/\",\n",
      "        \"/sequence-files/IGVFFI2817LGXZ/\",\n",
      "        \"/sequence-files/IGVFFI2943HKTA/\",\n",
      "        \"/sequence-files/IGVFFI2982EDZQ/\",\n",
      "        \"/sequence-files/IGVFFI3123VBLT/\",\n",
      "        \"/sequence-files/IGVFFI3214RTBN/\",\n",
      "        \"/sequence-files/IGVFFI3233COXP/\",\n",
      "        \"/sequence-files/IGVFFI3303ZBHR/\",\n",
      "        \"/sequence-files/IGVFFI3348SKGI/\",\n",
      "        \"/sequence-files/IGVFFI3382QKPO/\",\n",
      "        \"/sequence-files/IGVFFI3386NYHV/\",\n",
      "        \"/sequence-files/IGVFFI3444IPDT/\",\n",
      "        \"/sequence-files/IGVFFI3493WBVL/\",\n",
      "        \"/sequence-files/IGVFFI3494LPTP/\",\n",
      "        \"/sequence-files/IGVFFI3505SVMC/\",\n",
      "        \"/sequence-files/IGVFFI3511GHKS/\",\n",
      "        \"/sequence-files/IGVFFI3708BQXP/\",\n",
      "        \"/sequence-files/IGVFFI3972RNEO/\",\n",
      "        \"/sequence-files/IGVFFI4057VKOQ/\",\n",
      "        \"/sequence-files/IGVFFI4234TVID/\",\n",
      "        \"/sequence-files/IGVFFI4415FEWA/\",\n",
      "        \"/sequence-files/IGVFFI4525KLCR/\",\n",
      "        \"/sequence-files/IGVFFI4706OFSJ/\",\n",
      "        \"/sequence-files/IGVFFI4793EVSD/\",\n",
      "        \"/sequence-files/IGVFFI4970YAJH/\",\n",
      "        \"/sequence-files/IGVFFI5338XYGK/\",\n",
      "        \"/sequence-files/IGVFFI5381JHWE/\",\n",
      "        \"/sequence-files/IGVFFI5594WHXH/\",\n",
      "        \"/sequence-files/IGVFFI5796UGUZ/\",\n",
      "        \"/sequence-files/IGVFFI5811WYPE/\",\n",
      "        \"/sequence-files/IGVFFI5909DSRV/\",\n",
      "        \"/sequence-files/IGVFFI6035UHJQ/\",\n",
      "        \"/sequence-files/IGVFFI6220XOIC/\",\n",
      "        \"/sequence-files/IGVFFI6249BQWN/\",\n",
      "        \"/sequence-files/IGVFFI6458YSWL/\",\n",
      "        \"/sequence-files/IGVFFI6543MNBG/\",\n",
      "        \"/sequence-files/IGVFFI6835HOWG/\",\n",
      "        \"/sequence-files/IGVFFI6925QBZF/\",\n",
      "        \"/sequence-files/IGVFFI7039SSTF/\",\n",
      "        \"/sequence-files/IGVFFI7047MHFI/\",\n",
      "        \"/sequence-files/IGVFFI7791SOVI/\",\n",
      "        \"/sequence-files/IGVFFI7837XVRP/\",\n",
      "        \"/sequence-files/IGVFFI8075FHDU/\",\n",
      "        \"/sequence-files/IGVFFI8083JNEC/\",\n",
      "        \"/sequence-files/IGVFFI8604YVJN/\",\n",
      "        \"/sequence-files/IGVFFI8639GRXV/\",\n",
      "        \"/sequence-files/IGVFFI8752LXSX/\",\n",
      "        \"/sequence-files/IGVFFI8777HPMI/\",\n",
      "        \"/sequence-files/IGVFFI8874CRTX/\",\n",
      "        \"/sequence-files/IGVFFI8885NBEO/\",\n",
      "        \"/sequence-files/IGVFFI8915RCQN/\",\n",
      "        \"/sequence-files/IGVFFI8982IKTF/\",\n",
      "        \"/sequence-files/IGVFFI8982TYLB/\",\n",
      "        \"/sequence-files/IGVFFI9096LWKB/\",\n",
      "        \"/sequence-files/IGVFFI9211ZNLQ/\",\n",
      "        \"/sequence-files/IGVFFI9249CJKR/\",\n",
      "        \"/sequence-files/IGVFFI9262DGAX/\",\n",
      "        \"/sequence-files/IGVFFI9465SKQT/\",\n",
      "        \"/sequence-files/IGVFFI9543XTYU/\",\n",
      "        \"/sequence-files/IGVFFI9728KFIA/\",\n",
      "        \"/sequence-files/IGVFFI9868MDMT/\",\n",
      "        \"/sequence-files/IGVFFI9893YKGK/\",\n",
      "        \"/sequence-files/IGVFFI9936FPMA/\",\n",
      "        \"/sequence-files/IGVFFI9973ZUAO/\",\n",
      "        \"/tabular-files/IGVFFI1257TMRU/\",\n",
      "        \"/tabular-files/IGVFFI1928OJPU/\",\n",
      "        \"/tabular-files/IGVFFI7212WXZR/\"\n",
      "    ],\n",
      "    \"file_sets\": [\n",
      "        \"/analysis-sets/IGVFDS0793KZKS/\",\n",
      "        \"/auxiliary-sets/IGVFDS7563XAXA/\",\n",
      "        \"/measurement-sets/IGVFDS1570UJMU/\",\n",
      "        \"/measurement-sets/IGVFDS8103FALC/\"\n",
      "    ],\n",
      "    \"samples\": [\n",
      "        \"/in-vitro-systems/IGVFSM0423ICBM/\",\n",
      "        \"/in-vitro-systems/IGVFSM0576KKQT/\",\n",
      "        \"/in-vitro-systems/IGVFSM2173XZZU/\",\n",
      "        \"/in-vitro-systems/IGVFSM3775ZYEG/\",\n",
      "        \"/in-vitro-systems/IGVFSM4177YLPO/\",\n",
      "        \"/in-vitro-systems/IGVFSM4605UDLV/\",\n",
      "        \"/in-vitro-systems/IGVFSM7102SSKB/\",\n",
      "        \"/in-vitro-systems/IGVFSM7661FMCI/\",\n",
      "        \"/in-vitro-systems/IGVFSM8141PBNS/\",\n",
      "        \"/in-vitro-systems/IGVFSM9845AOVZ/\",\n",
      "        \"/multiplexed-samples/IGVFSM3641EGVH/\",\n",
      "        \"/tissues/IGVFSM2973LYHI/\",\n",
      "        \"/tissues/IGVFSM7378CNYR/\"\n",
      "    ],\n",
      "    \"donors\": [\n",
      "        \"/human-donors/IGVFDO0938OYMI/\",\n",
      "        \"/human-donors/IGVFDO1264SGCS/\",\n",
      "        \"/human-donors/IGVFDO1718HCES/\"\n",
      "    ]\n",
      "}\n"
     ]
    }
   ],
   "source": [
    "print_summary(files_seen, file_sets_seen, samples_seen, donors_seen)"
   ]
  },
  {
   "cell_type": "code",
   "execution_count": 24,
   "id": "b8eec049-715e-4644-800f-18ee519233d9",
   "metadata": {},
   "outputs": [
    {
     "data": {
      "text/plain": [
       "{'x', 'y'}"
      ]
     },
     "execution_count": 24,
     "metadata": {},
     "output_type": "execute_result"
    }
   ],
   "source": [
    "a = set()\n",
    "a.add('x')\n",
    "a.add('y')\n",
    "a"
   ]
  },
  {
   "cell_type": "code",
   "execution_count": 56,
   "id": "b4a8a6a5-bed8-45ec-a11f-07b200ed2cc5",
   "metadata": {},
   "outputs": [
    {
     "data": {
      "text/plain": [
       "['/in-vitro-systems/IGVFSM7625PGWV/']"
      ]
     },
     "execution_count": 56,
     "metadata": {},
     "output_type": "execute_result"
    }
   ],
   "source": [
    "file_sets_local['/measurement-sets/IGVFDS2534CJYA/']['samples']"
   ]
  },
  {
   "cell_type": "code",
   "execution_count": 17,
   "id": "aa6d99ee-8bec-4468-8df6-609b3341112d",
   "metadata": {},
   "outputs": [
    {
     "data": {
      "text/plain": [
       "[{'@id': '/matrix-files/IGVFFI8142SBEI/',\n",
       "  '@type': ['MatrixFile', 'File', 'Item'],\n",
       "  'file_set': {'data_use_limitation_summaries': ['HMB-MDS'],\n",
       "   '@id': '/analysis-sets/IGVFDS0718WXPI/',\n",
       "   'controlled_access': True}},\n",
       " {'@id': '/tabular-files/IGVFFI9764GKVR/',\n",
       "  '@type': ['TabularFile', 'File', 'Item'],\n",
       "  'file_set': {'data_use_limitation_summaries': ['HMB-MDS'],\n",
       "   '@id': '/analysis-sets/IGVFDS0718WXPI/',\n",
       "   'controlled_access': True}},\n",
       " {'@id': '/configuration-files/IGVFFI7971ZCIE/',\n",
       "  '@type': ['ConfigurationFile', 'File', 'Item'],\n",
       "  'file_set': {'data_use_limitation_summaries': ['HMB-MDS'],\n",
       "   '@id': '/measurement-sets/IGVFDS2259DWKL/',\n",
       "   'controlled_access': True}},\n",
       " {'@id': '/configuration-files/IGVFFI6594MPVX/',\n",
       "  '@type': ['ConfigurationFile', 'File', 'Item'],\n",
       "  'file_set': {'data_use_limitation_summaries': ['HMB-MDS'],\n",
       "   '@id': '/measurement-sets/IGVFDS2534CJYA/',\n",
       "   'controlled_access': True}},\n",
       " {'@id': '/sequence-files/IGVFFI8905WBYU/',\n",
       "  '@type': ['SequenceFile', 'File', 'Item'],\n",
       "  'file_set': {'data_use_limitation_summaries': ['HMB-MDS'],\n",
       "   '@id': '/measurement-sets/IGVFDS2534CJYA/',\n",
       "   'controlled_access': True}},\n",
       " {'@id': '/sequence-files/IGVFFI1517VBJH/',\n",
       "  '@type': ['SequenceFile', 'File', 'Item'],\n",
       "  'file_set': {'data_use_limitation_summaries': ['HMB-MDS'],\n",
       "   '@id': '/measurement-sets/IGVFDS2259DWKL/',\n",
       "   'controlled_access': True}},\n",
       " {'@id': '/sequence-files/IGVFFI2440LTBO/',\n",
       "  '@type': ['SequenceFile', 'File', 'Item'],\n",
       "  'file_set': {'data_use_limitation_summaries': ['HMB-MDS'],\n",
       "   '@id': '/measurement-sets/IGVFDS2534CJYA/',\n",
       "   'controlled_access': True}},\n",
       " {'@id': '/sequence-files/IGVFFI9846ECMS/',\n",
       "  '@type': ['SequenceFile', 'File', 'Item'],\n",
       "  'file_set': {'data_use_limitation_summaries': ['HMB-MDS'],\n",
       "   '@id': '/measurement-sets/IGVFDS2259DWKL/',\n",
       "   'controlled_access': True}},\n",
       " {'@id': '/sequence-files/IGVFFI1915BHZZ/',\n",
       "  '@type': ['SequenceFile', 'File', 'Item'],\n",
       "  'file_set': {'data_use_limitation_summaries': ['HMB-MDS'],\n",
       "   '@id': '/measurement-sets/IGVFDS2259DWKL/',\n",
       "   'controlled_access': True}},\n",
       " {'@id': '/sequence-files/IGVFFI9831SEGU/',\n",
       "  '@type': ['SequenceFile', 'File', 'Item'],\n",
       "  'file_set': {'data_use_limitation_summaries': ['HMB-MDS'],\n",
       "   '@id': '/measurement-sets/IGVFDS2534CJYA/',\n",
       "   'controlled_access': True}}]"
      ]
     },
     "execution_count": 17,
     "metadata": {},
     "output_type": "execute_result"
    }
   ],
   "source": [
    "files"
   ]
  },
  {
   "cell_type": "code",
   "execution_count": null,
   "id": "a2ec4276-b7be-490e-b545-e4905abe27ef",
   "metadata": {},
   "outputs": [],
   "source": []
  }
 ],
 "metadata": {
  "kernelspec": {
   "display_name": "Python 3 (ipykernel)",
   "language": "python",
   "name": "python3"
  },
  "language_info": {
   "codemirror_mode": {
    "name": "ipython",
    "version": 3
   },
   "file_extension": ".py",
   "mimetype": "text/x-python",
   "name": "python",
   "nbconvert_exporter": "python",
   "pygments_lexer": "ipython3",
   "version": "3.11.13"
  }
 },
 "nbformat": 4,
 "nbformat_minor": 5
}
